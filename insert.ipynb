{
 "metadata": {
  "language_info": {
   "codemirror_mode": {
    "name": "ipython",
    "version": 3
   },
   "file_extension": ".py",
   "mimetype": "text/x-python",
   "name": "python",
   "nbconvert_exporter": "python",
   "pygments_lexer": "ipython3",
   "version": "3.6.8"
  },
  "orig_nbformat": 4,
  "kernelspec": {
   "name": "python3",
   "display_name": "Python 3.6.8 64-bit ('venv': venv)"
  },
  "interpreter": {
   "hash": "b0fad49476c4ca01e6de5744364f842811365398219d41f443435316b2a609c6"
  }
 },
 "nbformat": 4,
 "nbformat_minor": 2,
 "cells": [
  {
   "source": [
    "Initial rough analysis of data"
   ],
   "cell_type": "markdown",
   "metadata": {}
  },
  {
   "cell_type": "code",
   "execution_count": 7,
   "metadata": {},
   "outputs": [
    {
     "output_type": "stream",
     "name": "stderr",
     "text": [
      "/Users/claraho/Desktop/apple-app-demo/venv/lib/python3.6/site-packages/IPython/core/interactiveshell.py:3072: DtypeWarning: Columns (3,4) have mixed types.Specify dtype option on import or set low_memory=False.\n  interactivity=interactivity, compiler=compiler, result=result)\n"
     ]
    },
    {
     "output_type": "execute_result",
     "data": {
      "text/plain": [
       "            geo_type        region transportation_type alternative_name  \\\n",
       "0     country/region       Albania             driving              NaN   \n",
       "1     country/region       Albania             walking              NaN   \n",
       "2     country/region     Argentina             driving              NaN   \n",
       "3     country/region     Argentina             walking              NaN   \n",
       "4     country/region     Australia             driving               AU   \n",
       "...              ...           ...                 ...              ...   \n",
       "4686          county   York County             walking              NaN   \n",
       "4687          county  Young County             driving              NaN   \n",
       "4688          county   Yuba County             driving              NaN   \n",
       "4689          county   Yuma County             driving              NaN   \n",
       "4690          county   Yuma County             walking              NaN   \n",
       "\n",
       "        sub-region        country  2020-01-13  2020-01-14  2020-01-15  \\\n",
       "0              NaN            NaN       100.0       95.30      101.43   \n",
       "1              NaN            NaN       100.0      100.68       98.93   \n",
       "2              NaN            NaN       100.0       97.07      102.45   \n",
       "3              NaN            NaN       100.0       95.11      101.37   \n",
       "4              NaN            NaN       100.0      102.98      104.21   \n",
       "...            ...            ...         ...         ...         ...   \n",
       "4686  Pennsylvania  United States       100.0      110.22      121.82   \n",
       "4687         Texas  United States       100.0       98.85       97.76   \n",
       "4688    California  United States       100.0      102.98      103.10   \n",
       "4689       Arizona  United States       100.0      101.82      106.67   \n",
       "4690       Arizona  United States       100.0       95.88       98.97   \n",
       "\n",
       "      2020-01-16  ...  2021-07-18  2021-07-19  2021-07-20  2021-07-21  \\\n",
       "0          97.20  ...      263.83      243.24      251.90      278.22   \n",
       "1          98.46  ...      202.00      223.75      226.65      260.72   \n",
       "2         111.21  ...       76.00       84.39      104.62       87.91   \n",
       "3         112.67  ...       50.82       73.40       92.07       75.92   \n",
       "4         108.63  ...       79.44       78.88       78.63       80.76   \n",
       "...          ...  ...         ...         ...         ...         ...   \n",
       "4686      109.72  ...      185.47      212.71      210.28      212.38   \n",
       "4687       92.21  ...      160.91      164.84      168.77      169.24   \n",
       "4688      114.08  ...      158.89      155.40      171.02      158.63   \n",
       "4689      108.93  ...      124.58      133.49      121.49      128.24   \n",
       "4690       92.88  ...      120.43      144.55      125.41      148.50   \n",
       "\n",
       "      2021-07-22  2021-07-23  2021-07-24  2021-07-25  2021-07-26  2021-07-27  \n",
       "0         297.08      315.51      330.00      349.02      330.53      315.20  \n",
       "1         265.93      284.18      273.39      253.82      291.86      270.02  \n",
       "2          95.23      116.22      122.68       75.03       79.49       81.46  \n",
       "3          82.94      100.50       90.21       52.75       70.94       71.21  \n",
       "4          84.23       76.98       61.62       72.95       76.87       89.22  \n",
       "...          ...         ...         ...         ...         ...         ...  \n",
       "4686      231.33      268.07      265.41      175.75      219.12      211.16  \n",
       "4687      179.13      213.08      177.17      150.34      181.17      162.47  \n",
       "4688      164.93      188.06      174.85      151.90      159.70      154.49  \n",
       "4689      135.70      157.59      139.03      124.56      128.68      122.29  \n",
       "4690      144.29      157.34      139.40      113.05      146.95      141.72  \n",
       "\n",
       "[4691 rows x 568 columns]"
      ],
      "text/html": "<div>\n<style scoped>\n    .dataframe tbody tr th:only-of-type {\n        vertical-align: middle;\n    }\n\n    .dataframe tbody tr th {\n        vertical-align: top;\n    }\n\n    .dataframe thead th {\n        text-align: right;\n    }\n</style>\n<table border=\"1\" class=\"dataframe\">\n  <thead>\n    <tr style=\"text-align: right;\">\n      <th></th>\n      <th>geo_type</th>\n      <th>region</th>\n      <th>transportation_type</th>\n      <th>alternative_name</th>\n      <th>sub-region</th>\n      <th>country</th>\n      <th>2020-01-13</th>\n      <th>2020-01-14</th>\n      <th>2020-01-15</th>\n      <th>2020-01-16</th>\n      <th>...</th>\n      <th>2021-07-18</th>\n      <th>2021-07-19</th>\n      <th>2021-07-20</th>\n      <th>2021-07-21</th>\n      <th>2021-07-22</th>\n      <th>2021-07-23</th>\n      <th>2021-07-24</th>\n      <th>2021-07-25</th>\n      <th>2021-07-26</th>\n      <th>2021-07-27</th>\n    </tr>\n  </thead>\n  <tbody>\n    <tr>\n      <th>0</th>\n      <td>country/region</td>\n      <td>Albania</td>\n      <td>driving</td>\n      <td>NaN</td>\n      <td>NaN</td>\n      <td>NaN</td>\n      <td>100.0</td>\n      <td>95.30</td>\n      <td>101.43</td>\n      <td>97.20</td>\n      <td>...</td>\n      <td>263.83</td>\n      <td>243.24</td>\n      <td>251.90</td>\n      <td>278.22</td>\n      <td>297.08</td>\n      <td>315.51</td>\n      <td>330.00</td>\n      <td>349.02</td>\n      <td>330.53</td>\n      <td>315.20</td>\n    </tr>\n    <tr>\n      <th>1</th>\n      <td>country/region</td>\n      <td>Albania</td>\n      <td>walking</td>\n      <td>NaN</td>\n      <td>NaN</td>\n      <td>NaN</td>\n      <td>100.0</td>\n      <td>100.68</td>\n      <td>98.93</td>\n      <td>98.46</td>\n      <td>...</td>\n      <td>202.00</td>\n      <td>223.75</td>\n      <td>226.65</td>\n      <td>260.72</td>\n      <td>265.93</td>\n      <td>284.18</td>\n      <td>273.39</td>\n      <td>253.82</td>\n      <td>291.86</td>\n      <td>270.02</td>\n    </tr>\n    <tr>\n      <th>2</th>\n      <td>country/region</td>\n      <td>Argentina</td>\n      <td>driving</td>\n      <td>NaN</td>\n      <td>NaN</td>\n      <td>NaN</td>\n      <td>100.0</td>\n      <td>97.07</td>\n      <td>102.45</td>\n      <td>111.21</td>\n      <td>...</td>\n      <td>76.00</td>\n      <td>84.39</td>\n      <td>104.62</td>\n      <td>87.91</td>\n      <td>95.23</td>\n      <td>116.22</td>\n      <td>122.68</td>\n      <td>75.03</td>\n      <td>79.49</td>\n      <td>81.46</td>\n    </tr>\n    <tr>\n      <th>3</th>\n      <td>country/region</td>\n      <td>Argentina</td>\n      <td>walking</td>\n      <td>NaN</td>\n      <td>NaN</td>\n      <td>NaN</td>\n      <td>100.0</td>\n      <td>95.11</td>\n      <td>101.37</td>\n      <td>112.67</td>\n      <td>...</td>\n      <td>50.82</td>\n      <td>73.40</td>\n      <td>92.07</td>\n      <td>75.92</td>\n      <td>82.94</td>\n      <td>100.50</td>\n      <td>90.21</td>\n      <td>52.75</td>\n      <td>70.94</td>\n      <td>71.21</td>\n    </tr>\n    <tr>\n      <th>4</th>\n      <td>country/region</td>\n      <td>Australia</td>\n      <td>driving</td>\n      <td>AU</td>\n      <td>NaN</td>\n      <td>NaN</td>\n      <td>100.0</td>\n      <td>102.98</td>\n      <td>104.21</td>\n      <td>108.63</td>\n      <td>...</td>\n      <td>79.44</td>\n      <td>78.88</td>\n      <td>78.63</td>\n      <td>80.76</td>\n      <td>84.23</td>\n      <td>76.98</td>\n      <td>61.62</td>\n      <td>72.95</td>\n      <td>76.87</td>\n      <td>89.22</td>\n    </tr>\n    <tr>\n      <th>...</th>\n      <td>...</td>\n      <td>...</td>\n      <td>...</td>\n      <td>...</td>\n      <td>...</td>\n      <td>...</td>\n      <td>...</td>\n      <td>...</td>\n      <td>...</td>\n      <td>...</td>\n      <td>...</td>\n      <td>...</td>\n      <td>...</td>\n      <td>...</td>\n      <td>...</td>\n      <td>...</td>\n      <td>...</td>\n      <td>...</td>\n      <td>...</td>\n      <td>...</td>\n      <td>...</td>\n    </tr>\n    <tr>\n      <th>4686</th>\n      <td>county</td>\n      <td>York County</td>\n      <td>walking</td>\n      <td>NaN</td>\n      <td>Pennsylvania</td>\n      <td>United States</td>\n      <td>100.0</td>\n      <td>110.22</td>\n      <td>121.82</td>\n      <td>109.72</td>\n      <td>...</td>\n      <td>185.47</td>\n      <td>212.71</td>\n      <td>210.28</td>\n      <td>212.38</td>\n      <td>231.33</td>\n      <td>268.07</td>\n      <td>265.41</td>\n      <td>175.75</td>\n      <td>219.12</td>\n      <td>211.16</td>\n    </tr>\n    <tr>\n      <th>4687</th>\n      <td>county</td>\n      <td>Young County</td>\n      <td>driving</td>\n      <td>NaN</td>\n      <td>Texas</td>\n      <td>United States</td>\n      <td>100.0</td>\n      <td>98.85</td>\n      <td>97.76</td>\n      <td>92.21</td>\n      <td>...</td>\n      <td>160.91</td>\n      <td>164.84</td>\n      <td>168.77</td>\n      <td>169.24</td>\n      <td>179.13</td>\n      <td>213.08</td>\n      <td>177.17</td>\n      <td>150.34</td>\n      <td>181.17</td>\n      <td>162.47</td>\n    </tr>\n    <tr>\n      <th>4688</th>\n      <td>county</td>\n      <td>Yuba County</td>\n      <td>driving</td>\n      <td>NaN</td>\n      <td>California</td>\n      <td>United States</td>\n      <td>100.0</td>\n      <td>102.98</td>\n      <td>103.10</td>\n      <td>114.08</td>\n      <td>...</td>\n      <td>158.89</td>\n      <td>155.40</td>\n      <td>171.02</td>\n      <td>158.63</td>\n      <td>164.93</td>\n      <td>188.06</td>\n      <td>174.85</td>\n      <td>151.90</td>\n      <td>159.70</td>\n      <td>154.49</td>\n    </tr>\n    <tr>\n      <th>4689</th>\n      <td>county</td>\n      <td>Yuma County</td>\n      <td>driving</td>\n      <td>NaN</td>\n      <td>Arizona</td>\n      <td>United States</td>\n      <td>100.0</td>\n      <td>101.82</td>\n      <td>106.67</td>\n      <td>108.93</td>\n      <td>...</td>\n      <td>124.58</td>\n      <td>133.49</td>\n      <td>121.49</td>\n      <td>128.24</td>\n      <td>135.70</td>\n      <td>157.59</td>\n      <td>139.03</td>\n      <td>124.56</td>\n      <td>128.68</td>\n      <td>122.29</td>\n    </tr>\n    <tr>\n      <th>4690</th>\n      <td>county</td>\n      <td>Yuma County</td>\n      <td>walking</td>\n      <td>NaN</td>\n      <td>Arizona</td>\n      <td>United States</td>\n      <td>100.0</td>\n      <td>95.88</td>\n      <td>98.97</td>\n      <td>92.88</td>\n      <td>...</td>\n      <td>120.43</td>\n      <td>144.55</td>\n      <td>125.41</td>\n      <td>148.50</td>\n      <td>144.29</td>\n      <td>157.34</td>\n      <td>139.40</td>\n      <td>113.05</td>\n      <td>146.95</td>\n      <td>141.72</td>\n    </tr>\n  </tbody>\n</table>\n<p>4691 rows × 568 columns</p>\n</div>"
     },
     "metadata": {},
     "execution_count": 7
    }
   ],
   "source": [
    "import pandas as pd\n",
    "pd.set_option('display.max_rows', 500)\n",
    "\n",
    "df = pd.read_csv('./data/applemobilitytrends-2021-07-27.csv')\n",
    "\n",
    "df"
   ]
  },
  {
   "cell_type": "code",
   "execution_count": 17,
   "metadata": {},
   "outputs": [
    {
     "output_type": "execute_result",
     "data": {
      "text/plain": [
       "Index(['geo_type', 'region', 'transportation_type', 'alternative_name',\n",
       "       'sub-region', 'country', '2020-01-13', '2020-01-14', '2020-01-15',\n",
       "       '2020-01-16',\n",
       "       ...\n",
       "       '2021-07-18', '2021-07-19', '2021-07-20', '2021-07-21', '2021-07-22',\n",
       "       '2021-07-23', '2021-07-24', '2021-07-25', '2021-07-26', '2021-07-27'],\n",
       "      dtype='object', length=568)"
      ]
     },
     "metadata": {},
     "execution_count": 17
    }
   ],
   "source": [
    "df.columns"
   ]
  },
  {
   "source": [
    "Insert Mobility data"
   ],
   "cell_type": "markdown",
   "metadata": {}
  },
  {
   "cell_type": "code",
   "execution_count": 16,
   "metadata": {},
   "outputs": [],
   "source": [
    "import numpy as np\n",
    "\n",
    "def preprocess_mobility(df):\n",
    "    id_vars = {'geo_type', 'region', 'transportation_type', 'alternative_name','sub-region', 'country'}\n",
    "    value_vars = set(df.columns) - id_vars\n",
    "    df = pd.melt(df, id_vars=id_vars, value_vars=value_vars, var_name='date', value_name = 'mobility_rate')\n",
    "    df['mobility_rate'] = df['mobility_rate'].replace(np.nan, 0, regex=True)\n",
    "    df = df.replace(np.nan, '', regex=True)\n",
    "\n",
    "    return df"
   ]
  },
  {
   "cell_type": "code",
   "execution_count": 17,
   "metadata": {},
   "outputs": [],
   "source": [
    "def checkTableExists(dbcur, tablename):\n",
    "    # dbcur = dbcon.cursor()\n",
    "    dbcur.execute(\"\"\"\n",
    "        SELECT COUNT(*)\n",
    "        FROM information_schema.tables\n",
    "        WHERE table_name = '{0}'\n",
    "        \"\"\".format(tablename.replace('\\'', '\\'\\'')))\n",
    "    if dbcur.fetchone()[0] == 1:\n",
    "        # dbcur.close()\n",
    "        return True\n",
    "\n",
    "    # dbcur.close()\n",
    "    return False"
   ]
  },
  {
   "cell_type": "code",
   "execution_count": null,
   "metadata": {},
   "outputs": [],
   "source": [
    "import pandas as pd\n",
    "import pymysql\n",
    "from dotenv import load_dotenv\n",
    "from tqdm.notebook import tqdm\n",
    "\n",
    "def create_mobility_table(df):\n",
    "    \n",
    "    load_dotenv()\n",
    "\n",
    "    # PostgreSQL Database credentials loaded from the .env file\n",
    "    DATABASE = os.getenv('DATABASE')\n",
    "    DATABASE_USERNAME = os.getenv('DATABASE_USERNAME')\n",
    "    DATABASE_PASSWORD = os.getenv('DATABASE_PASSWORD')\n",
    "    DATABASE_HOST = os.getenv('DATABASE_HOST')\n",
    "\n",
    "    try:\n",
    "        con = pymysql.connect(\n",
    "            database=DATABASE,\n",
    "            user=DATABASE_USERNAME,\n",
    "            password=DATABASE_PASSWORD,\n",
    "            host = DATABASE_HOST)\n",
    "\n",
    "        cur = con.cursor()\n",
    "        if checkTableExists(cur, 'mobility') == False:\n",
    "            print('Creating table....')\n",
    "\n",
    "            cur.execute(\"CREATE TABLE mobility(region varchar(255),alternative_name varchar(255),country varchar(255),geo_type varchar(255),sub-region varchar(255),transportation_type varchar(255),date DATE,mobility_rate float)\")\n",
    "            print(\"Table is created....\")\n",
    "\n",
    "        #loop through the data frame\n",
    "        for i,row in tqdm(df.iterrows()):\n",
    "            #here %S means string values \n",
    "            sql = \"INSERT INTO mobility VALUES (%s,%s,%s,%s,%s,%s,%s,%s)\"\n",
    "            # print(sql, tuple(row))\n",
    "            cur.execute(sql, tuple(row))\n",
    "            # print(\"Record inserted\")\n",
    "            # the connection is not auto committed by default, so we must commit to save our changes\n",
    "            con.commit()\n",
    "\n",
    "        # cur.execute(\"LOAD DATA INFILE 'clean.csv' INTO TABLE mobilityData FIELDS TERMINATED BY ',' IGNORE 1 ROWS\")\n",
    "    except pymysql.Error as e:\n",
    "        print(\"Error while connecting to MySQL\", e)"
   ]
  },
  {
   "cell_type": "code",
   "execution_count": 6,
   "metadata": {
    "tags": []
   },
   "outputs": [
    {
     "output_type": "stream",
     "name": "stderr",
     "text": [
      "/Users/claraho/Desktop/apple-app-demo/venv/lib/python3.6/site-packages/IPython/core/interactiveshell.py:3072: DtypeWarning: Columns (3,4) have mixed types.Specify dtype option on import or set low_memory=False.\n  interactivity=interactivity, compiler=compiler, result=result)\n"
     ]
    },
    {
     "output_type": "display_data",
     "data": {
      "text/plain": "0it [00:00, ?it/s]",
      "application/vnd.jupyter.widget-view+json": {
       "version_major": 2,
       "version_minor": 0,
       "model_id": "8b7b4030d0764c43af6194973507d5b8"
      }
     },
     "metadata": {}
    }
   ],
   "source": [
    "df = pd.read_csv('./data/applemobilitytrends-2021-07-27.csv')\n",
    "df = preprocess_mobility(df)\n",
    "create_mobility_table(df)"
   ]
  },
  {
   "source": [
    "Insert covid data"
   ],
   "cell_type": "markdown",
   "metadata": {}
  },
  {
   "cell_type": "code",
   "execution_count": null,
   "metadata": {},
   "outputs": [],
   "source": [
    "import numpy as np\n",
    "\n",
    "def preprocess_covid(df):\n",
    "    df = df[['iso_code', 'continent', 'location', 'date','total_cases', 'new_cases']]\n",
    "    df['total_cases'] = df['total_cases'].replace(np.nan, 0, regex=True)\n",
    "    df['new_cases'] = df['new_cases'].replace(np.nan, 0, regex=True)\n",
    "    df = df.replace(np.nan, '', regex=True)\n",
    "\n",
    "    return df"
   ]
  },
  {
   "cell_type": "code",
   "execution_count": null,
   "metadata": {},
   "outputs": [],
   "source": [
    "import pandas as pd\n",
    "import pymysql\n",
    "from dotenv import load_dotenv\n",
    "from tqdm.notebook import tqdm\n",
    "\n",
    "def create_covid_table(df):\n",
    "    \n",
    "    load_dotenv()\n",
    "\n",
    "    # PostgreSQL Database credentials loaded from the .env file\n",
    "    DATABASE = os.getenv('DATABASE')\n",
    "    DATABASE_USERNAME = os.getenv('DATABASE_USERNAME')\n",
    "    DATABASE_PASSWORD = os.getenv('DATABASE_PASSWORD')\n",
    "    DATABASE_HOST = os.getenv('DATABASE_HOST')\n",
    "\n",
    "    try:\n",
    "        con = pymysql.connect(\n",
    "            database=DATABASE,\n",
    "            user=DATABASE_USERNAME,\n",
    "            password=DATABASE_PASSWORD,\n",
    "            host = DATABASE_HOST)\n",
    "\n",
    "        cur = con.cursor()\n",
    "        if checkTableExists(cur, 'covid') == False:\n",
    "            print('Creating table....')\n",
    "\n",
    "            cur.execute(\"CREATE TABLE covid(iso_code varchar(255), continent varchar(255), location varchar(255), date date, total_cases float, new_cases float)\")\n",
    "\n",
    "        #loop through the data frame\n",
    "        for i,row in tqdm(df.iterrows()):\n",
    "            #here %S means string values \n",
    "            sql = \"INSERT INTO mobility VALUES (%s,%s,%s,%s,%s,%s)\"\n",
    "            # print(sql, tuple(row))\n",
    "            cur.execute(sql, tuple(row))\n",
    "            # print(\"Record inserted\")\n",
    "            # the connection is not auto committed by default, so we must commit to save our changes\n",
    "            con.commit()\n",
    "\n",
    "        # cur.execute(\"LOAD DATA INFILE 'clean.csv' INTO TABLE mobilityData FIELDS TERMINATED BY ',' IGNORE 1 ROWS\")\n",
    "    except pymysql.Error as e:\n",
    "        print(\"Error while connecting to MySQL\", e)"
   ]
  },
  {
   "cell_type": "code",
   "execution_count": null,
   "metadata": {},
   "outputs": [],
   "source": [
    "df = pd.read_csv('./data/owid-covid-data.csv')\n",
    "df = preprocess_covid(df)\n",
    "create_covid_table(df)"
   ]
  }
 ]
}